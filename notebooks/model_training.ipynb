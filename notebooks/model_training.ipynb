{
 "cells": [
  {
   "cell_type": "code",
   "execution_count": 1,
   "metadata": {},
   "outputs": [
    {
     "ename": "ModuleNotFoundError",
     "evalue": "No module named 'data'",
     "output_type": "error",
     "traceback": [
      "\u001b[0;31m---------------------------------------------------------------------------\u001b[0m",
      "\u001b[0;31mModuleNotFoundError\u001b[0m                       Traceback (most recent call last)",
      "\u001b[0;32m<ipython-input-1-5281d2adaa36>\u001b[0m in \u001b[0;36m<module>\u001b[0;34m\u001b[0m\n\u001b[1;32m      6\u001b[0m \u001b[0;32mfrom\u001b[0m \u001b[0mtorch_geometric\u001b[0m\u001b[0;34m.\u001b[0m\u001b[0mnn\u001b[0m \u001b[0;32mimport\u001b[0m \u001b[0mGCNConv\u001b[0m\u001b[0;34m,\u001b[0m \u001b[0mglobal_add_pool\u001b[0m\u001b[0;34m\u001b[0m\u001b[0;34m\u001b[0m\u001b[0m\n\u001b[1;32m      7\u001b[0m \u001b[0;32mfrom\u001b[0m \u001b[0mtorch_geometric\u001b[0m\u001b[0;34m.\u001b[0m\u001b[0mtransforms\u001b[0m \u001b[0;32mimport\u001b[0m \u001b[0mAddSelfLoops\u001b[0m\u001b[0;34m,\u001b[0m \u001b[0mToDense\u001b[0m\u001b[0;34m\u001b[0m\u001b[0;34m\u001b[0m\u001b[0m\n\u001b[0;32m----> 8\u001b[0;31m \u001b[0;32mfrom\u001b[0m \u001b[0mdata\u001b[0m \u001b[0;32mimport\u001b[0m \u001b[0mMoleculeDataset\u001b[0m\u001b[0;34m\u001b[0m\u001b[0;34m\u001b[0m\u001b[0m\n\u001b[0m\u001b[1;32m      9\u001b[0m \u001b[0;32mimport\u001b[0m \u001b[0mrandom\u001b[0m\u001b[0;34m\u001b[0m\u001b[0;34m\u001b[0m\u001b[0m\n\u001b[1;32m     10\u001b[0m \u001b[0;32mfrom\u001b[0m \u001b[0msklearn\u001b[0m\u001b[0;34m.\u001b[0m\u001b[0mmodel_selection\u001b[0m \u001b[0;32mimport\u001b[0m \u001b[0mtrain_test_split\u001b[0m\u001b[0;34m\u001b[0m\u001b[0;34m\u001b[0m\u001b[0m\n",
      "\u001b[0;31mModuleNotFoundError\u001b[0m: No module named 'data'"
     ]
    }
   ],
   "source": [
    "import pandas as pd\n",
    "import torch\n",
    "from torch.nn import Linear, Sigmoid, BCEWithLogitsLoss\n",
    "import torch.nn.functional as F\n",
    "from torch_geometric.data import DataLoader\n",
    "from torch_geometric.nn import GCNConv, global_add_pool\n",
    "from torch_geometric.transforms import AddSelfLoops, ToDense\n",
    "from data import MoleculeDataset\n",
    "import random\n",
    "from sklearn.model_selection import train_test_split"
   ]
  },
  {
   "cell_type": "code",
   "execution_count": 8,
   "metadata": {},
   "outputs": [],
   "source": [
    "train_path = '~/github/MolNet/raw_data/sider_data/train_sider.csv'\n",
    "val_path = '~/github/MolNet/raw_data/sider_data/val_sider.csv'\n",
    "test_path = '~/github/MolNet/raw_data/sider_data/test_sider.csv'"
   ]
  },
  {
   "cell_type": "code",
   "execution_count": 44,
   "metadata": {},
   "outputs": [],
   "source": [
    "data_path = '~/github/MolNet/raw_data/sider_data/sider.csv'\n",
    "sider_data = pd.read_csv(data_path)\n",
    "X = sider_data.loc[:,'smiles']\n",
    "y = sider_data.iloc[:,1:]"
   ]
  },
  {
   "cell_type": "code",
   "execution_count": 55,
   "metadata": {},
   "outputs": [],
   "source": [
    "# split\n",
    "random.seed(22)\n",
    "all_data_size = sider_data.shape[0]\n",
    "train_ind = random.sample(list(sider_data.index),int(all_data_size*0.7))\n",
    "train_data = sider_data.loc[train_ind,:]\n",
    "leftover = sider_data.loc[[i for i in range(all_data_size) if i not in train_ind],:]\n",
    "val_ind = random.sample(list(leftover.index),int(len(leftover.index)*0.333))\n",
    "val_data = leftover.loc[val_ind,:]\n",
    "test_data = leftover.loc[[i for i in list(leftover.index) if i not in val_ind],:]\n",
    "\n",
    "train_data = train_data.reset_index().drop('index',axis=1)\n",
    "val_data = val_data.reset_index().drop('index',axis=1)\n",
    "test_data = test_data.reset_index().drop('index',axis=1)"
   ]
  },
  {
   "cell_type": "code",
   "execution_count": 256,
   "metadata": {},
   "outputs": [],
   "source": [
    "from skmultilearn.model_selection import iterative_train_test_split\n",
    "X_v = np.matrix(X.values).T\n",
    "y_v = np.matrix(y.values)\n",
    "X_train, y_train, X_test, y_test = iterative_train_test_split(X_v,y_v,test_size = 0.2)"
   ]
  },
  {
   "cell_type": "code",
   "execution_count": 258,
   "metadata": {},
   "outputs": [
    {
     "data": {
      "text/plain": [
       "(1136, 1)"
      ]
     },
     "execution_count": 258,
     "metadata": {},
     "output_type": "execute_result"
    }
   ],
   "source": [
    "X_train.shape"
   ]
  },
  {
   "cell_type": "code",
   "execution_count": 71,
   "metadata": {},
   "outputs": [],
   "source": [
    "train_dataset = MoleculeDataset(train_data, transform=AddSelfLoops())\n",
    "val_dataset = MoleculeDataset(val_data, transform=AddSelfLoops())\n",
    "test_dataset = MoleculeDataset(test_data, transform=AddSelfLoops())"
   ]
  },
  {
   "cell_type": "code",
   "execution_count": 72,
   "metadata": {},
   "outputs": [
    {
     "data": {
      "text/plain": [
       "Molecule(edge_index=[2, 52], x=[16, 4], y=[1, 27])"
      ]
     },
     "execution_count": 72,
     "metadata": {},
     "output_type": "execute_result"
    }
   ],
   "source": [
    "train_dataset[0]"
   ]
  },
  {
   "cell_type": "code",
   "execution_count": 117,
   "metadata": {},
   "outputs": [],
   "source": [
    "train_dataloader = DataLoader(train_dataset,batch_size=50,shuffle=True)\n",
    "val_dataloader = DataLoader(val_dataset,batch_size=50,shuffle=True)\n",
    "test_dataloader = DataLoader(test_dataset,batch_size=50,shuffle=True)"
   ]
  },
  {
   "cell_type": "code",
   "execution_count": 74,
   "metadata": {},
   "outputs": [],
   "source": [
    "device = torch.device(\"cuda:0\" if torch.cuda.is_available() else \"cpu\")\n",
    "#### MODEL #####\n",
    "class Net(torch.nn.Module):\n",
    "    def __init__(self, num_node_features: int, num_classes: int):\n",
    "        super(Net, self).__init__()\n",
    "        self.conv1 = GCNConv(num_node_features, 16)\n",
    "        self.conv2 = GCNConv(16, 16)\n",
    "        self.lin1 = Linear(16,100)\n",
    "        self.lin2 = Linear(100,num_classes)\n",
    "        self.sig = Sigmoid()\n",
    "\n",
    "    def forward(self, data):\n",
    "        x, edge_index, batch_vec = data.x, data.edge_index, data.batch\n",
    "\n",
    "        x = self.conv1(x, edge_index)\n",
    "        x = F.relu(x)\n",
    "        x = F.dropout(x, training=self.training)\n",
    "        x = self.conv2(x, edge_index)\n",
    "        sum_vector = global_add_pool(x,batch = batch_vec)\n",
    "        x = F.relu(sum_vector)\n",
    "        x = F.dropout(x, training=self.training)\n",
    "        x = self.lin1(x)\n",
    "        x = F.relu(x)\n",
    "        x = F.dropout(x, training=self.training)\n",
    "        x = self.lin2(x)\n",
    "\n",
    "        return x"
   ]
  },
  {
   "cell_type": "code",
   "execution_count": 100,
   "metadata": {
    "collapsed": true,
    "jupyter": {
     "outputs_hidden": true
    }
   },
   "outputs": [
    {
     "ename": "KeyboardInterrupt",
     "evalue": "",
     "output_type": "error",
     "traceback": [
      "\u001b[0;31m---------------------------------------------------------------------------\u001b[0m",
      "\u001b[0;31mKeyboardInterrupt\u001b[0m                         Traceback (most recent call last)",
      "\u001b[0;32m<ipython-input-100-956244871f8e>\u001b[0m in \u001b[0;36m<module>\u001b[0;34m\u001b[0m\n\u001b[1;32m     23\u001b[0m     \u001b[0mtrain_running_accuracy\u001b[0m \u001b[0;34m=\u001b[0m \u001b[0;36m0.0\u001b[0m\u001b[0;34m\u001b[0m\u001b[0;34m\u001b[0m\u001b[0m\n\u001b[1;32m     24\u001b[0m \u001b[0;34m\u001b[0m\u001b[0m\n\u001b[0;32m---> 25\u001b[0;31m     \u001b[0;32mfor\u001b[0m \u001b[0minputs\u001b[0m \u001b[0;32min\u001b[0m \u001b[0mtrain_dataloader\u001b[0m\u001b[0;34m:\u001b[0m\u001b[0;34m\u001b[0m\u001b[0;34m\u001b[0m\u001b[0m\n\u001b[0m\u001b[1;32m     26\u001b[0m \u001b[0;34m\u001b[0m\u001b[0m\n\u001b[1;32m     27\u001b[0m         \u001b[0moptimizer\u001b[0m\u001b[0;34m.\u001b[0m\u001b[0mzero_grad\u001b[0m\u001b[0;34m(\u001b[0m\u001b[0;34m)\u001b[0m\u001b[0;34m\u001b[0m\u001b[0;34m\u001b[0m\u001b[0m\n",
      "\u001b[0;32m~/opt/anaconda3/envs/molnet/lib/python3.6/site-packages/torch/utils/data/dataloader.py\u001b[0m in \u001b[0;36m__next__\u001b[0;34m(self)\u001b[0m\n\u001b[1;32m    343\u001b[0m \u001b[0;34m\u001b[0m\u001b[0m\n\u001b[1;32m    344\u001b[0m     \u001b[0;32mdef\u001b[0m \u001b[0m__next__\u001b[0m\u001b[0;34m(\u001b[0m\u001b[0mself\u001b[0m\u001b[0;34m)\u001b[0m\u001b[0;34m:\u001b[0m\u001b[0;34m\u001b[0m\u001b[0;34m\u001b[0m\u001b[0m\n\u001b[0;32m--> 345\u001b[0;31m         \u001b[0mdata\u001b[0m \u001b[0;34m=\u001b[0m \u001b[0mself\u001b[0m\u001b[0;34m.\u001b[0m\u001b[0m_next_data\u001b[0m\u001b[0;34m(\u001b[0m\u001b[0;34m)\u001b[0m\u001b[0;34m\u001b[0m\u001b[0;34m\u001b[0m\u001b[0m\n\u001b[0m\u001b[1;32m    346\u001b[0m         \u001b[0mself\u001b[0m\u001b[0;34m.\u001b[0m\u001b[0m_num_yielded\u001b[0m \u001b[0;34m+=\u001b[0m \u001b[0;36m1\u001b[0m\u001b[0;34m\u001b[0m\u001b[0;34m\u001b[0m\u001b[0m\n\u001b[1;32m    347\u001b[0m         \u001b[0;32mif\u001b[0m \u001b[0mself\u001b[0m\u001b[0;34m.\u001b[0m\u001b[0m_dataset_kind\u001b[0m \u001b[0;34m==\u001b[0m \u001b[0m_DatasetKind\u001b[0m\u001b[0;34m.\u001b[0m\u001b[0mIterable\u001b[0m \u001b[0;32mand\u001b[0m\u001b[0;31m \u001b[0m\u001b[0;31m\\\u001b[0m\u001b[0;34m\u001b[0m\u001b[0;34m\u001b[0m\u001b[0m\n",
      "\u001b[0;32m~/opt/anaconda3/envs/molnet/lib/python3.6/site-packages/torch/utils/data/dataloader.py\u001b[0m in \u001b[0;36m_next_data\u001b[0;34m(self)\u001b[0m\n\u001b[1;32m    383\u001b[0m     \u001b[0;32mdef\u001b[0m \u001b[0m_next_data\u001b[0m\u001b[0;34m(\u001b[0m\u001b[0mself\u001b[0m\u001b[0;34m)\u001b[0m\u001b[0;34m:\u001b[0m\u001b[0;34m\u001b[0m\u001b[0;34m\u001b[0m\u001b[0m\n\u001b[1;32m    384\u001b[0m         \u001b[0mindex\u001b[0m \u001b[0;34m=\u001b[0m \u001b[0mself\u001b[0m\u001b[0;34m.\u001b[0m\u001b[0m_next_index\u001b[0m\u001b[0;34m(\u001b[0m\u001b[0;34m)\u001b[0m  \u001b[0;31m# may raise StopIteration\u001b[0m\u001b[0;34m\u001b[0m\u001b[0;34m\u001b[0m\u001b[0m\n\u001b[0;32m--> 385\u001b[0;31m         \u001b[0mdata\u001b[0m \u001b[0;34m=\u001b[0m \u001b[0mself\u001b[0m\u001b[0;34m.\u001b[0m\u001b[0m_dataset_fetcher\u001b[0m\u001b[0;34m.\u001b[0m\u001b[0mfetch\u001b[0m\u001b[0;34m(\u001b[0m\u001b[0mindex\u001b[0m\u001b[0;34m)\u001b[0m  \u001b[0;31m# may raise StopIteration\u001b[0m\u001b[0;34m\u001b[0m\u001b[0;34m\u001b[0m\u001b[0m\n\u001b[0m\u001b[1;32m    386\u001b[0m         \u001b[0;32mif\u001b[0m \u001b[0mself\u001b[0m\u001b[0;34m.\u001b[0m\u001b[0m_pin_memory\u001b[0m\u001b[0;34m:\u001b[0m\u001b[0;34m\u001b[0m\u001b[0;34m\u001b[0m\u001b[0m\n\u001b[1;32m    387\u001b[0m             \u001b[0mdata\u001b[0m \u001b[0;34m=\u001b[0m \u001b[0m_utils\u001b[0m\u001b[0;34m.\u001b[0m\u001b[0mpin_memory\u001b[0m\u001b[0;34m.\u001b[0m\u001b[0mpin_memory\u001b[0m\u001b[0;34m(\u001b[0m\u001b[0mdata\u001b[0m\u001b[0;34m)\u001b[0m\u001b[0;34m\u001b[0m\u001b[0;34m\u001b[0m\u001b[0m\n",
      "\u001b[0;32m~/opt/anaconda3/envs/molnet/lib/python3.6/site-packages/torch/utils/data/_utils/fetch.py\u001b[0m in \u001b[0;36mfetch\u001b[0;34m(self, possibly_batched_index)\u001b[0m\n\u001b[1;32m     42\u001b[0m     \u001b[0;32mdef\u001b[0m \u001b[0mfetch\u001b[0m\u001b[0;34m(\u001b[0m\u001b[0mself\u001b[0m\u001b[0;34m,\u001b[0m \u001b[0mpossibly_batched_index\u001b[0m\u001b[0;34m)\u001b[0m\u001b[0;34m:\u001b[0m\u001b[0;34m\u001b[0m\u001b[0;34m\u001b[0m\u001b[0m\n\u001b[1;32m     43\u001b[0m         \u001b[0;32mif\u001b[0m \u001b[0mself\u001b[0m\u001b[0;34m.\u001b[0m\u001b[0mauto_collation\u001b[0m\u001b[0;34m:\u001b[0m\u001b[0;34m\u001b[0m\u001b[0;34m\u001b[0m\u001b[0m\n\u001b[0;32m---> 44\u001b[0;31m             \u001b[0mdata\u001b[0m \u001b[0;34m=\u001b[0m \u001b[0;34m[\u001b[0m\u001b[0mself\u001b[0m\u001b[0;34m.\u001b[0m\u001b[0mdataset\u001b[0m\u001b[0;34m[\u001b[0m\u001b[0midx\u001b[0m\u001b[0;34m]\u001b[0m \u001b[0;32mfor\u001b[0m \u001b[0midx\u001b[0m \u001b[0;32min\u001b[0m \u001b[0mpossibly_batched_index\u001b[0m\u001b[0;34m]\u001b[0m\u001b[0;34m\u001b[0m\u001b[0;34m\u001b[0m\u001b[0m\n\u001b[0m\u001b[1;32m     45\u001b[0m         \u001b[0;32melse\u001b[0m\u001b[0;34m:\u001b[0m\u001b[0;34m\u001b[0m\u001b[0;34m\u001b[0m\u001b[0m\n\u001b[1;32m     46\u001b[0m             \u001b[0mdata\u001b[0m \u001b[0;34m=\u001b[0m \u001b[0mself\u001b[0m\u001b[0;34m.\u001b[0m\u001b[0mdataset\u001b[0m\u001b[0;34m[\u001b[0m\u001b[0mpossibly_batched_index\u001b[0m\u001b[0;34m]\u001b[0m\u001b[0;34m\u001b[0m\u001b[0;34m\u001b[0m\u001b[0m\n",
      "\u001b[0;32m~/opt/anaconda3/envs/molnet/lib/python3.6/site-packages/torch/utils/data/_utils/fetch.py\u001b[0m in \u001b[0;36m<listcomp>\u001b[0;34m(.0)\u001b[0m\n\u001b[1;32m     42\u001b[0m     \u001b[0;32mdef\u001b[0m \u001b[0mfetch\u001b[0m\u001b[0;34m(\u001b[0m\u001b[0mself\u001b[0m\u001b[0;34m,\u001b[0m \u001b[0mpossibly_batched_index\u001b[0m\u001b[0;34m)\u001b[0m\u001b[0;34m:\u001b[0m\u001b[0;34m\u001b[0m\u001b[0;34m\u001b[0m\u001b[0m\n\u001b[1;32m     43\u001b[0m         \u001b[0;32mif\u001b[0m \u001b[0mself\u001b[0m\u001b[0;34m.\u001b[0m\u001b[0mauto_collation\u001b[0m\u001b[0;34m:\u001b[0m\u001b[0;34m\u001b[0m\u001b[0;34m\u001b[0m\u001b[0m\n\u001b[0;32m---> 44\u001b[0;31m             \u001b[0mdata\u001b[0m \u001b[0;34m=\u001b[0m \u001b[0;34m[\u001b[0m\u001b[0mself\u001b[0m\u001b[0;34m.\u001b[0m\u001b[0mdataset\u001b[0m\u001b[0;34m[\u001b[0m\u001b[0midx\u001b[0m\u001b[0;34m]\u001b[0m \u001b[0;32mfor\u001b[0m \u001b[0midx\u001b[0m \u001b[0;32min\u001b[0m \u001b[0mpossibly_batched_index\u001b[0m\u001b[0;34m]\u001b[0m\u001b[0;34m\u001b[0m\u001b[0;34m\u001b[0m\u001b[0m\n\u001b[0m\u001b[1;32m     45\u001b[0m         \u001b[0;32melse\u001b[0m\u001b[0;34m:\u001b[0m\u001b[0;34m\u001b[0m\u001b[0;34m\u001b[0m\u001b[0m\n\u001b[1;32m     46\u001b[0m             \u001b[0mdata\u001b[0m \u001b[0;34m=\u001b[0m \u001b[0mself\u001b[0m\u001b[0;34m.\u001b[0m\u001b[0mdataset\u001b[0m\u001b[0;34m[\u001b[0m\u001b[0mpossibly_batched_index\u001b[0m\u001b[0;34m]\u001b[0m\u001b[0;34m\u001b[0m\u001b[0;34m\u001b[0m\u001b[0m\n",
      "\u001b[0;32m<ipython-input-70-82a574ac054b>\u001b[0m in \u001b[0;36m__getitem__\u001b[0;34m(self, idx)\u001b[0m\n\u001b[1;32m    118\u001b[0m \u001b[0;34m\u001b[0m\u001b[0m\n\u001b[1;32m    119\u001b[0m         molecule = Molecule(self.data.smiles[idx],\n\u001b[0;32m--> 120\u001b[0;31m                            self.data.iloc[idx,1:].to_list())\n\u001b[0m\u001b[1;32m    121\u001b[0m \u001b[0;34m\u001b[0m\u001b[0m\n\u001b[1;32m    122\u001b[0m         \u001b[0;32mif\u001b[0m \u001b[0mself\u001b[0m\u001b[0;34m.\u001b[0m\u001b[0mtransform\u001b[0m\u001b[0;34m:\u001b[0m\u001b[0;34m\u001b[0m\u001b[0;34m\u001b[0m\u001b[0m\n",
      "\u001b[0;32m<ipython-input-70-82a574ac054b>\u001b[0m in \u001b[0;36m__init__\u001b[0;34m(self, smiles_string, y_list)\u001b[0m\n\u001b[1;32m     30\u001b[0m \u001b[0;34m\u001b[0m\u001b[0m\n\u001b[1;32m     31\u001b[0m         \u001b[0;31m# inherit superclass from torch-geometric\u001b[0m\u001b[0;34m\u001b[0m\u001b[0;34m\u001b[0m\u001b[0;34m\u001b[0m\u001b[0m\n\u001b[0;32m---> 32\u001b[0;31m         super().__init__(x = torch.tensor(self.extract_features(), \n\u001b[0m\u001b[1;32m     33\u001b[0m                                           dtype=torch.float),\n\u001b[1;32m     34\u001b[0m                          edge_index = torch.tensor(self.graph_to_edge_index(), \n",
      "\u001b[0;32m<ipython-input-70-82a574ac054b>\u001b[0m in \u001b[0;36mextract_features\u001b[0;34m(self)\u001b[0m\n\u001b[1;32m     50\u001b[0m             \u001b[0matom\u001b[0m \u001b[0;34m=\u001b[0m \u001b[0mself\u001b[0m\u001b[0;34m.\u001b[0m\u001b[0mgraph\u001b[0m\u001b[0;34m.\u001b[0m\u001b[0mnodes\u001b[0m\u001b[0;34m[\u001b[0m\u001b[0matom_index\u001b[0m\u001b[0;34m]\u001b[0m\u001b[0;34m\u001b[0m\u001b[0;34m\u001b[0m\u001b[0m\n\u001b[1;32m     51\u001b[0m \u001b[0;34m\u001b[0m\u001b[0m\n\u001b[0;32m---> 52\u001b[0;31m             \u001b[0mfeature_vector\u001b[0m \u001b[0;34m=\u001b[0m \u001b[0mself\u001b[0m\u001b[0;34m.\u001b[0m\u001b[0mconvert_atom_to_vector\u001b[0m\u001b[0;34m(\u001b[0m\u001b[0matom\u001b[0m\u001b[0;34m)\u001b[0m\u001b[0;34m\u001b[0m\u001b[0;34m\u001b[0m\u001b[0m\n\u001b[0m\u001b[1;32m     53\u001b[0m \u001b[0;34m\u001b[0m\u001b[0m\n\u001b[1;32m     54\u001b[0m             \u001b[0;32mif\u001b[0m \u001b[0mall_feature_vectors\u001b[0m\u001b[0;34m.\u001b[0m\u001b[0msize\u001b[0m \u001b[0;34m==\u001b[0m \u001b[0;36m0\u001b[0m\u001b[0;34m:\u001b[0m\u001b[0;34m\u001b[0m\u001b[0;34m\u001b[0m\u001b[0m\n",
      "\u001b[0;32m<ipython-input-70-82a574ac054b>\u001b[0m in \u001b[0;36mconvert_atom_to_vector\u001b[0;34m(self, atom)\u001b[0m\n\u001b[1;32m     63\u001b[0m     \u001b[0;32mdef\u001b[0m \u001b[0mconvert_atom_to_vector\u001b[0m\u001b[0;34m(\u001b[0m\u001b[0mself\u001b[0m\u001b[0;34m,\u001b[0m\u001b[0matom\u001b[0m\u001b[0;34m)\u001b[0m\u001b[0;34m:\u001b[0m\u001b[0;34m\u001b[0m\u001b[0;34m\u001b[0m\u001b[0m\n\u001b[1;32m     64\u001b[0m \u001b[0;34m\u001b[0m\u001b[0m\n\u001b[0;32m---> 65\u001b[0;31m         \u001b[0matom_dict\u001b[0m \u001b[0;34m=\u001b[0m \u001b[0mpd\u001b[0m\u001b[0;34m.\u001b[0m\u001b[0mread_csv\u001b[0m\u001b[0;34m(\u001b[0m\u001b[0;34m'raw_data/atom_info.txt'\u001b[0m\u001b[0;34m,\u001b[0m\u001b[0msep\u001b[0m\u001b[0;34m=\u001b[0m\u001b[0;34m','\u001b[0m\u001b[0;34m)\u001b[0m\u001b[0;34m.\u001b[0m\u001b[0mset_index\u001b[0m\u001b[0;34m(\u001b[0m\u001b[0;34m'Symbol'\u001b[0m\u001b[0;34m)\u001b[0m\u001b[0;34m[\u001b[0m\u001b[0;34m'AtomicNumber'\u001b[0m\u001b[0;34m]\u001b[0m\u001b[0;34m.\u001b[0m\u001b[0mto_dict\u001b[0m\u001b[0;34m(\u001b[0m\u001b[0;34m)\u001b[0m\u001b[0;34m\u001b[0m\u001b[0;34m\u001b[0m\u001b[0m\n\u001b[0m\u001b[1;32m     66\u001b[0m         \u001b[0mfeature_vector\u001b[0m \u001b[0;34m=\u001b[0m \u001b[0mnp\u001b[0m\u001b[0;34m.\u001b[0m\u001b[0marray\u001b[0m\u001b[0;34m(\u001b[0m\u001b[0;34m[\u001b[0m\u001b[0;34m]\u001b[0m\u001b[0;34m)\u001b[0m\u001b[0;34m\u001b[0m\u001b[0;34m\u001b[0m\u001b[0m\n\u001b[1;32m     67\u001b[0m         \u001b[0mfeature_vector\u001b[0m \u001b[0;34m=\u001b[0m \u001b[0mnp\u001b[0m\u001b[0;34m.\u001b[0m\u001b[0mappend\u001b[0m\u001b[0;34m(\u001b[0m\u001b[0mfeature_vector\u001b[0m\u001b[0;34m,\u001b[0m\u001b[0mint\u001b[0m\u001b[0;34m(\u001b[0m\u001b[0matom_dict\u001b[0m\u001b[0;34m[\u001b[0m\u001b[0matom\u001b[0m\u001b[0;34m[\u001b[0m\u001b[0;34m'element'\u001b[0m\u001b[0;34m]\u001b[0m\u001b[0;34m]\u001b[0m\u001b[0;34m)\u001b[0m\u001b[0;34m)\u001b[0m\u001b[0;34m\u001b[0m\u001b[0;34m\u001b[0m\u001b[0m\n",
      "\u001b[0;32m~/opt/anaconda3/envs/molnet/lib/python3.6/site-packages/pandas/core/frame.py\u001b[0m in \u001b[0;36mset_index\u001b[0;34m(self, keys, drop, append, inplace, verify_integrity)\u001b[0m\n\u001b[1;32m   4467\u001b[0m         \u001b[0;31m# use set to handle duplicate column names gracefully in case of drop\u001b[0m\u001b[0;34m\u001b[0m\u001b[0;34m\u001b[0m\u001b[0;34m\u001b[0m\u001b[0m\n\u001b[1;32m   4468\u001b[0m         \u001b[0;32mfor\u001b[0m \u001b[0mc\u001b[0m \u001b[0;32min\u001b[0m \u001b[0mset\u001b[0m\u001b[0;34m(\u001b[0m\u001b[0mto_remove\u001b[0m\u001b[0;34m)\u001b[0m\u001b[0;34m:\u001b[0m\u001b[0;34m\u001b[0m\u001b[0;34m\u001b[0m\u001b[0m\n\u001b[0;32m-> 4469\u001b[0;31m             \u001b[0;32mdel\u001b[0m \u001b[0mframe\u001b[0m\u001b[0;34m[\u001b[0m\u001b[0mc\u001b[0m\u001b[0;34m]\u001b[0m\u001b[0;34m\u001b[0m\u001b[0;34m\u001b[0m\u001b[0m\n\u001b[0m\u001b[1;32m   4470\u001b[0m \u001b[0;34m\u001b[0m\u001b[0m\n\u001b[1;32m   4471\u001b[0m         \u001b[0;31m# clear up memory usage\u001b[0m\u001b[0;34m\u001b[0m\u001b[0;34m\u001b[0m\u001b[0;34m\u001b[0m\u001b[0m\n",
      "\u001b[0;32m~/opt/anaconda3/envs/molnet/lib/python3.6/site-packages/pandas/core/generic.py\u001b[0m in \u001b[0;36m__delitem__\u001b[0;34m(self, key)\u001b[0m\n\u001b[1;32m   3514\u001b[0m             \u001b[0;31m# there was no match, this call should raise the appropriate\u001b[0m\u001b[0;34m\u001b[0m\u001b[0;34m\u001b[0m\u001b[0;34m\u001b[0m\u001b[0m\n\u001b[1;32m   3515\u001b[0m             \u001b[0;31m# exception:\u001b[0m\u001b[0;34m\u001b[0m\u001b[0;34m\u001b[0m\u001b[0;34m\u001b[0m\u001b[0m\n\u001b[0;32m-> 3516\u001b[0;31m             \u001b[0mself\u001b[0m\u001b[0;34m.\u001b[0m\u001b[0m_data\u001b[0m\u001b[0;34m.\u001b[0m\u001b[0mdelete\u001b[0m\u001b[0;34m(\u001b[0m\u001b[0mkey\u001b[0m\u001b[0;34m)\u001b[0m\u001b[0;34m\u001b[0m\u001b[0;34m\u001b[0m\u001b[0m\n\u001b[0m\u001b[1;32m   3517\u001b[0m \u001b[0;34m\u001b[0m\u001b[0m\n\u001b[1;32m   3518\u001b[0m         \u001b[0;31m# delete from the caches\u001b[0m\u001b[0;34m\u001b[0m\u001b[0;34m\u001b[0m\u001b[0;34m\u001b[0m\u001b[0m\n",
      "\u001b[0;32m~/opt/anaconda3/envs/molnet/lib/python3.6/site-packages/pandas/core/internals/managers.py\u001b[0m in \u001b[0;36mdelete\u001b[0;34m(self, item)\u001b[0m\n\u001b[1;32m   1022\u001b[0m \u001b[0;34m\u001b[0m\u001b[0m\n\u001b[1;32m   1023\u001b[0m         \u001b[0;31m# FIXME: use Index.delete as soon as it uses fastpath=True\u001b[0m\u001b[0;34m\u001b[0m\u001b[0;34m\u001b[0m\u001b[0;34m\u001b[0m\u001b[0m\n\u001b[0;32m-> 1024\u001b[0;31m         \u001b[0mself\u001b[0m\u001b[0;34m.\u001b[0m\u001b[0maxes\u001b[0m\u001b[0;34m[\u001b[0m\u001b[0;36m0\u001b[0m\u001b[0;34m]\u001b[0m \u001b[0;34m=\u001b[0m \u001b[0mself\u001b[0m\u001b[0;34m.\u001b[0m\u001b[0mitems\u001b[0m\u001b[0;34m[\u001b[0m\u001b[0;34m~\u001b[0m\u001b[0mis_deleted\u001b[0m\u001b[0;34m]\u001b[0m\u001b[0;34m\u001b[0m\u001b[0;34m\u001b[0m\u001b[0m\n\u001b[0m\u001b[1;32m   1025\u001b[0m         self.blocks = tuple(\n\u001b[1;32m   1026\u001b[0m             \u001b[0mb\u001b[0m \u001b[0;32mfor\u001b[0m \u001b[0mblkno\u001b[0m\u001b[0;34m,\u001b[0m \u001b[0mb\u001b[0m \u001b[0;32min\u001b[0m \u001b[0menumerate\u001b[0m\u001b[0;34m(\u001b[0m\u001b[0mself\u001b[0m\u001b[0;34m.\u001b[0m\u001b[0mblocks\u001b[0m\u001b[0;34m)\u001b[0m \u001b[0;32mif\u001b[0m \u001b[0;32mnot\u001b[0m \u001b[0mis_blk_deleted\u001b[0m\u001b[0;34m[\u001b[0m\u001b[0mblkno\u001b[0m\u001b[0;34m]\u001b[0m\u001b[0;34m\u001b[0m\u001b[0;34m\u001b[0m\u001b[0m\n",
      "\u001b[0;32m~/opt/anaconda3/envs/molnet/lib/python3.6/site-packages/pandas/core/indexes/base.py\u001b[0m in \u001b[0;36m__getitem__\u001b[0;34m(self, key)\u001b[0m\n\u001b[1;32m   4291\u001b[0m         \u001b[0mresult\u001b[0m \u001b[0;34m=\u001b[0m \u001b[0mgetitem\u001b[0m\u001b[0;34m(\u001b[0m\u001b[0mkey\u001b[0m\u001b[0;34m)\u001b[0m\u001b[0;34m\u001b[0m\u001b[0;34m\u001b[0m\u001b[0m\n\u001b[1;32m   4292\u001b[0m         \u001b[0;32mif\u001b[0m \u001b[0;32mnot\u001b[0m \u001b[0mis_scalar\u001b[0m\u001b[0;34m(\u001b[0m\u001b[0mresult\u001b[0m\u001b[0;34m)\u001b[0m\u001b[0;34m:\u001b[0m\u001b[0;34m\u001b[0m\u001b[0;34m\u001b[0m\u001b[0m\n\u001b[0;32m-> 4293\u001b[0;31m             \u001b[0;32mreturn\u001b[0m \u001b[0mpromote\u001b[0m\u001b[0;34m(\u001b[0m\u001b[0mresult\u001b[0m\u001b[0;34m)\u001b[0m\u001b[0;34m\u001b[0m\u001b[0;34m\u001b[0m\u001b[0m\n\u001b[0m\u001b[1;32m   4294\u001b[0m         \u001b[0;32melse\u001b[0m\u001b[0;34m:\u001b[0m\u001b[0;34m\u001b[0m\u001b[0;34m\u001b[0m\u001b[0m\n\u001b[1;32m   4295\u001b[0m             \u001b[0;32mreturn\u001b[0m \u001b[0mresult\u001b[0m\u001b[0;34m\u001b[0m\u001b[0;34m\u001b[0m\u001b[0m\n",
      "\u001b[0;32m~/opt/anaconda3/envs/molnet/lib/python3.6/site-packages/pandas/core/indexes/base.py\u001b[0m in \u001b[0;36m_shallow_copy\u001b[0;34m(self, values, **kwargs)\u001b[0m\n\u001b[1;32m    648\u001b[0m             \u001b[0mvalues\u001b[0m \u001b[0;34m=\u001b[0m \u001b[0mvalues\u001b[0m\u001b[0;34m.\u001b[0m\u001b[0masi8\u001b[0m\u001b[0;34m\u001b[0m\u001b[0;34m\u001b[0m\u001b[0m\n\u001b[1;32m    649\u001b[0m \u001b[0;34m\u001b[0m\u001b[0m\n\u001b[0;32m--> 650\u001b[0;31m         \u001b[0;32mreturn\u001b[0m \u001b[0mself\u001b[0m\u001b[0;34m.\u001b[0m\u001b[0m_simple_new\u001b[0m\u001b[0;34m(\u001b[0m\u001b[0mvalues\u001b[0m\u001b[0;34m,\u001b[0m \u001b[0;34m**\u001b[0m\u001b[0mattributes\u001b[0m\u001b[0;34m)\u001b[0m\u001b[0;34m\u001b[0m\u001b[0;34m\u001b[0m\u001b[0m\n\u001b[0m\u001b[1;32m    651\u001b[0m \u001b[0;34m\u001b[0m\u001b[0m\n\u001b[1;32m    652\u001b[0m     \u001b[0;32mdef\u001b[0m \u001b[0m_shallow_copy_with_infer\u001b[0m\u001b[0;34m(\u001b[0m\u001b[0mself\u001b[0m\u001b[0;34m,\u001b[0m \u001b[0mvalues\u001b[0m\u001b[0;34m,\u001b[0m \u001b[0;34m**\u001b[0m\u001b[0mkwargs\u001b[0m\u001b[0;34m)\u001b[0m\u001b[0;34m:\u001b[0m\u001b[0;34m\u001b[0m\u001b[0;34m\u001b[0m\u001b[0m\n",
      "\u001b[0;32m~/opt/anaconda3/envs/molnet/lib/python3.6/site-packages/pandas/core/indexes/base.py\u001b[0m in \u001b[0;36m_simple_new\u001b[0;34m(cls, values, name, dtype, **kwargs)\u001b[0m\n\u001b[1;32m    591\u001b[0m             \u001b[0mvalues\u001b[0m \u001b[0;34m=\u001b[0m \u001b[0mnp\u001b[0m\u001b[0;34m.\u001b[0m\u001b[0masarray\u001b[0m\u001b[0;34m(\u001b[0m\u001b[0mvalues\u001b[0m\u001b[0;34m.\u001b[0m\u001b[0m_values\u001b[0m\u001b[0;34m)\u001b[0m\u001b[0;34m\u001b[0m\u001b[0;34m\u001b[0m\u001b[0m\n\u001b[1;32m    592\u001b[0m \u001b[0;34m\u001b[0m\u001b[0m\n\u001b[0;32m--> 593\u001b[0;31m         \u001b[0mresult\u001b[0m \u001b[0;34m=\u001b[0m \u001b[0mobject\u001b[0m\u001b[0;34m.\u001b[0m\u001b[0m__new__\u001b[0m\u001b[0;34m(\u001b[0m\u001b[0mcls\u001b[0m\u001b[0;34m)\u001b[0m\u001b[0;34m\u001b[0m\u001b[0;34m\u001b[0m\u001b[0m\n\u001b[0m\u001b[1;32m    594\u001b[0m         \u001b[0mresult\u001b[0m\u001b[0;34m.\u001b[0m\u001b[0m_data\u001b[0m \u001b[0;34m=\u001b[0m \u001b[0mvalues\u001b[0m\u001b[0;34m\u001b[0m\u001b[0;34m\u001b[0m\u001b[0m\n\u001b[1;32m    595\u001b[0m         \u001b[0;31m# _index_data is a (temporary?) fix to ensure that the direct data\u001b[0m\u001b[0;34m\u001b[0m\u001b[0;34m\u001b[0m\u001b[0;34m\u001b[0m\u001b[0m\n",
      "\u001b[0;31mKeyboardInterrupt\u001b[0m: "
     ]
    }
   ],
   "source": [
    "num_node_features = 4\n",
    "num_classes = train_dataset[0].y.size(1)\n",
    "\n",
    "device = torch.device('cuda' if torch.cuda.is_available() else 'cpu')\n",
    "model = Net(num_node_features, num_classes).to(device)\n",
    "optimizer = torch.optim.Adam(model.parameters(), lr=0.01, weight_decay=5e-4)\n",
    "\n",
    "num_epochs = 30\n",
    "\n",
    "criterion = BCEWithLogitsLoss()\n",
    "\n",
    "train_losses = []\n",
    "train_accuracies = []\n",
    "val_losses = []\n",
    "val_accuracies = []\n",
    "\n",
    "for epoch in range(num_epochs):\n",
    "    \n",
    "    print(f'Epoch {epoch}:')\n",
    "    model.train()\n",
    "\n",
    "    train_running_loss = 0.0\n",
    "    train_running_accuracy = 0.0\n",
    "    \n",
    "    for inputs in train_dataloader:\n",
    "\n",
    "        optimizer.zero_grad()\n",
    "        with torch.set_grad_enabled(mode=True):\n",
    "            out = model(inputs)\n",
    "            train_loss = criterion(out, inputs.y)\n",
    "            train_acc = ((torch.sigmoid(out)>0.5).numpy()==inputs.y.numpy()).mean()\n",
    "            train_loss.backward()\n",
    "            optimizer.step()\n",
    "            \n",
    "        train_running_loss += train_loss.item() * inputs.y.size(0)\n",
    "        train_running_accuracy += train_acc * inputs.y.size(0)\n",
    "        \n",
    "    epoch_train_loss = train_running_loss/len(train_dataset)\n",
    "    train_losses.append(epoch_train_loss)\n",
    "    epoch_train_acc = train_running_accuracy/len(train_dataset)\n",
    "    train_accuracies.append(epoch_train_acc)\n",
    "    \n",
    "    print(f'Train:\\nLoss = {epoch_train_loss}\\nAcc = {epoch_train_acc}')   \n",
    "    \n",
    "    model.eval()\n",
    "\n",
    "    val_running_loss = 0.0\n",
    "    val_running_accuracy = 0.0\n",
    "    \n",
    "    for inputs in val_dataloader:\n",
    "\n",
    "        with torch.set_grad_enabled(mode=False):\n",
    "            out = model(inputs)\n",
    "            val_loss = criterion(out, inputs.y)\n",
    "            val_acc = ((torch.sigmoid(out)>0.5).numpy()==inputs.y.numpy()).mean()\n",
    "            \n",
    "        val_running_loss += val_loss.item() * inputs.y.size(0)\n",
    "        val_running_accuracy += val_acc * inputs.y.size(0)\n",
    "        \n",
    "    epoch_val_loss = val_running_loss/len(val_dataset)\n",
    "    val_losses.append(epoch_val_loss)\n",
    "    epoch_val_acc = val_running_accuracy/len(val_dataset)\n",
    "    val_accuracies.append(epoch_val_acc) \n",
    "    \n",
    "    print(f'Validation:\\nLoss = {epoch_val_loss}\\nAcc = {val_accuracies}')"
   ]
  },
  {
   "cell_type": "code",
   "execution_count": 105,
   "metadata": {},
   "outputs": [
    {
     "data": {
      "text/plain": [
       "[0.7201356285863328,\n",
       " 0.7378716744913929,\n",
       " 0.7344809598330725,\n",
       " 0.7425665101721439,\n",
       " 0.7425665101721439,\n",
       " 0.742566510172144,\n",
       " 0.7425665101721439,\n",
       " 0.7425665101721438,\n",
       " 0.7425665101721438,\n",
       " 0.7425665101721439,\n",
       " 0.7425665101721439,\n",
       " 0.742566510172144,\n",
       " 0.7425665101721439,\n",
       " 0.742566510172144,\n",
       " 0.7425665101721438,\n",
       " 0.7425665101721438,\n",
       " 0.7425665101721439,\n",
       " 0.7383933229003652,\n",
       " 0.742566510172144,\n",
       " 0.7425665101721439,\n",
       " 0.742566510172144,\n",
       " 0.7425665101721438,\n",
       " 0.7425665101721439,\n",
       " 0.7425665101721438,\n",
       " 0.742566510172144,\n",
       " 0.7425665101721439,\n",
       " 0.742566510172144]"
      ]
     },
     "execution_count": 105,
     "metadata": {},
     "output_type": "execute_result"
    }
   ],
   "source": [
    "val_accuracies"
   ]
  },
  {
   "cell_type": "code",
   "execution_count": 96,
   "metadata": {},
   "outputs": [
    {
     "data": {
      "text/plain": [
       "998"
      ]
     },
     "execution_count": 96,
     "metadata": {},
     "output_type": "execute_result"
    }
   ],
   "source": [
    "len(train_dataset)"
   ]
  },
  {
   "cell_type": "code",
   "execution_count": 97,
   "metadata": {},
   "outputs": [
    {
     "data": {
      "text/plain": [
       "142"
      ]
     },
     "execution_count": 97,
     "metadata": {},
     "output_type": "execute_result"
    }
   ],
   "source": [
    "len(val_dataset)"
   ]
  },
  {
   "cell_type": "code",
   "execution_count": 98,
   "metadata": {},
   "outputs": [
    {
     "data": {
      "text/plain": [
       "287"
      ]
     },
     "execution_count": 98,
     "metadata": {},
     "output_type": "execute_result"
    }
   ],
   "source": [
    "len(test_dataset)"
   ]
  },
  {
   "cell_type": "code",
   "execution_count": 113,
   "metadata": {},
   "outputs": [
    {
     "data": {
      "text/plain": [
       "[<matplotlib.lines.Line2D at 0x1370cc780>]"
      ]
     },
     "execution_count": 113,
     "metadata": {},
     "output_type": "execute_result"
    },
    {
     "data": {
      "image/png": "[encoded data removed]",
      "text/plain": [
       "<Figure size 432x288 with 1 Axes>"
      ]
     },
     "metadata": {
      "needs_background": "light"
     },
     "output_type": "display_data"
    }
   ],
   "source": [
    "import matplotlib.pyplot as plt\n",
    "plt.plot(list(range(27)),train_losses)\n",
    "plt.plot(list(range(27)),val_losses)"
   ]
  },
  {
   "cell_type": "code",
   "execution_count": 114,
   "metadata": {},
   "outputs": [
    {
     "data": {
      "text/plain": [
       "[<matplotlib.lines.Line2D at 0x139d63518>]"
      ]
     },
     "execution_count": 114,
     "metadata": {},
     "output_type": "execute_result"
    },
    {
     "data": {
      "image/png": "[encoded data removed]",
      "text/plain": [
       "<Figure size 432x288 with 1 Axes>"
      ]
     },
     "metadata": {
      "needs_background": "light"
     },
     "output_type": "display_data"
    }
   ],
   "source": [
    "import matplotlib.pyplot as plt\n",
    "plt.plot(list(range(27)),train_accuracies)\n",
    "plt.plot(list(range(27)),val_accuracies)"
   ]
  },
  {
   "cell_type": "code",
   "execution_count": 144,
   "metadata": {},
   "outputs": [],
   "source": [
    "import time\n",
    "latencies=[]\n",
    "all_probs=np.array([])\n",
    "all_labels=np.array([])\n",
    "for test_batch in test_dataloader:\n",
    "    since = time.time()\n",
    "    model.eval()\n",
    "    with torch.set_grad_enabled(mode=False):\n",
    "        pred=model(test_batch)\n",
    "        probs = torch.sigmoid(pred).numpy()\n",
    "        lbls = test_batch.y.numpy()\n",
    "        if all_probs.size>0:\n",
    "            all_probs = np.vstack([all_probs,probs])\n",
    "        else:\n",
    "            all_probs = probs\n",
    "        if all_labels.size>0:\n",
    "            all_labels = np.vstack([all_labels,lbls])\n",
    "        else:\n",
    "            all_labels = lbls\n",
    "    latencies.append(time.time() - since)"
   ]
  },
  {
   "cell_type": "code",
   "execution_count": 134,
   "metadata": {},
   "outputs": [
    {
     "data": {
      "text/plain": [
       "0.00013757944107055666"
      ]
     },
     "execution_count": 134,
     "metadata": {},
     "output_type": "execute_result"
    }
   ],
   "source": [
    "np.mean([l/50 for l in latencies])"
   ]
  },
  {
   "cell_type": "code",
   "execution_count": 147,
   "metadata": {},
   "outputs": [],
   "source": [
    "from sklearn.metrics import auc\n",
    "from scipy import interp\n",
    "fpr = dict()\n",
    "tpr = dict()\n",
    "roc_auc = dict()\n",
    "for i in range(27):\n",
    "    fpr[i], tpr[i], _ = roc_curve(all_labels[:, i], all_probs[:, i])\n",
    "    roc_auc[i] = auc(fpr[i], tpr[i])"
   ]
  },
  {
   "cell_type": "code",
   "execution_count": 161,
   "metadata": {},
   "outputs": [
    {
     "data": {
      "image/png": "[encoded data removed]",
      "text/plain": [
       "<Figure size 432x288 with 1 Axes>"
      ]
     },
     "metadata": {
      "needs_background": "light"
     },
     "output_type": "display_data"
    }
   ],
   "source": [
    "plt.figure()\n",
    "lw = 2\n",
    "plt.plot(fpr[2], tpr[2], color='darkorange',\n",
    "         lw=lw, label='ROC curve (area = %0.2f)' % roc_auc[2])\n",
    "plt.plot([0, 1], [0, 1], color='navy', lw=lw, linestyle='--')\n",
    "plt.xlim([0.0, 1.0])\n",
    "plt.ylim([0.0, 1.05])\n",
    "plt.xlabel('False Positive Rate')\n",
    "plt.ylabel('True Positive Rate')\n",
    "plt.title('Receiver operating characteristic')\n",
    "plt.legend(loc=\"lower right\")\n",
    "plt.show()"
   ]
  },
  {
   "cell_type": "code",
   "execution_count": 191,
   "metadata": {},
   "outputs": [
    {
     "name": "stderr",
     "output_type": "stream",
     "text": [
      "/Users/mbluestone/opt/anaconda3/envs/molnet/lib/python3.6/site-packages/ipykernel_launcher.py:8: DeprecationWarning: scipy.interp is deprecated and will be removed in SciPy 2.0.0, use numpy.interp instead\n",
      "  \n"
     ]
    },
    {
     "data": {
      "image/png": "[encoded data removed]",
      "text/plain": [
       "<Figure size 432x288 with 1 Axes>"
      ]
     },
     "metadata": {
      "needs_background": "light"
     },
     "output_type": "display_data"
    }
   ],
   "source": [
    "from itertools import cycle\n",
    "n_classes=27\n",
    "all_fpr = np.unique(np.concatenate([fpr[i] for i in range(n_classes)]))\n",
    "\n",
    "# Then interpolate all ROC curves at this points\n",
    "mean_tpr = np.zeros_like(all_fpr)\n",
    "for i in range(n_classes):\n",
    "    mean_tpr += interp(all_fpr, fpr[i], tpr[i])\n",
    "\n",
    "# Finally average it and compute AUC\n",
    "mean_tpr /= n_classes\n",
    "\n",
    "fpr[\"macro\"] = all_fpr\n",
    "tpr[\"macro\"] = mean_tpr\n",
    "roc_auc[\"macro\"] = auc(fpr[\"macro\"], tpr[\"macro\"])\n",
    "\n",
    "# Plot all ROC curves\n",
    "plt.figure()\n",
    "plt.plot(fpr[\"micro\"], tpr[\"micro\"],\n",
    "         label='micro-average ROC curve (area = {0:0.2f})'\n",
    "               ''.format(roc_auc[\"micro\"]),\n",
    "         color='deeppink', linestyle=':', linewidth=4)\n",
    "\n",
    "plt.plot(fpr[\"macro\"], tpr[\"macro\"],\n",
    "         label='macro-average ROC curve (area = {0:0.2f})'\n",
    "               ''.format(roc_auc[\"macro\"]),\n",
    "         color='navy', linestyle=':', linewidth=4)\n",
    "\n",
    "colors = cycle(['aqua', 'darkorange', 'cornflowerblue'])\n",
    "for i, color in zip(range(n_classes), colors):\n",
    "    plt.plot(fpr[i], tpr[i], color=color, lw=lw,\n",
    "             label='ROC curve of class {0} (area = {1:0.2f})'\n",
    "             ''.format(i, roc_auc[i]))\n",
    "\n",
    "plt.plot([0, 1], [0, 1], 'k--', lw=lw)\n",
    "plt.xlim([0.0, 1.0])\n",
    "plt.ylim([0.0, 1.05])\n",
    "plt.xlabel('False Positive Rate')\n",
    "plt.ylabel('True Positive Rate')\n",
    "plt.title('Some extension of Receiver operating characteristic to multi-class')\n",
    "#plt.legend(loc=\"lower right\")\n",
    "plt.show()"
   ]
  },
  {
   "cell_type": "code",
   "execution_count": 158,
   "metadata": {},
   "outputs": [],
   "source": [
    "# Compute micro-average ROC curve and ROC area\n",
    "fpr[\"micro\"], tpr[\"micro\"], _ = roc_curve(all_labels.ravel(), all_probs.ravel())\n",
    "roc_auc[\"micro\"] = auc(fpr[\"micro\"], tpr[\"micro\"])"
   ]
  },
  {
   "cell_type": "code",
   "execution_count": 189,
   "metadata": {
    "collapsed": true,
    "jupyter": {
     "outputs_hidden": true
    }
   },
   "outputs": [
    {
     "name": "stderr",
     "output_type": "stream",
     "text": [
      "/Users/mbluestone/opt/anaconda3/envs/molnet/lib/python3.6/site-packages/sklearn/metrics/_classification.py:1272: UndefinedMetricWarning: Precision is ill-defined and being set to 0.0 due to no predicted samples. Use `zero_division` parameter to control this behavior.\n",
      "  _warn_prf(average, modifier, msg_start, len(result))\n"
     ]
    }
   ],
   "source": [
    "from sklearn.metrics import f1_score,precision_score,recall_score,roc_curve\n",
    "from collections import defaultdict\n",
    "\n",
    "scores=defaultdict(lambda: dict.fromkeys(['dist','f1','p','r']))\n",
    "for i in range(27):\n",
    "    scores[i]['dist'] = np.round(all_labels[:,i].mean(),decimals=2)\n",
    "    scores[i]['f1'] = np.round(f1_score(all_labels[:, i], all_probs[:, i]>0.5),decimals=2)\n",
    "    scores[i]['p'] = np.round(precision_score(all_labels[:, i], all_probs[:, i]>0.5),decimals=2)\n",
    "    scores[i]['r'] = np.round(recall_score(all_labels[:, i], all_probs[:, i]>0.5),decimals=2)"
   ]
  },
  {
   "cell_type": "code",
   "execution_count": 190,
   "metadata": {
    "collapsed": true,
    "jupyter": {
     "outputs_hidden": true
    }
   },
   "outputs": [
    {
     "data": {
      "text/plain": [
       "defaultdict(<function __main__.<lambda>()>,\n",
       "            {0: {'dist': 0.51, 'f1': 0.67, 'p': 0.51, 'r': 1.0},\n",
       "             1: {'dist': 0.69, 'f1': 0.82, 'p': 0.69, 'r': 1.0},\n",
       "             2: {'dist': 0.01, 'f1': 0.0, 'p': 0.0, 'r': 0.0},\n",
       "             3: {'dist': 0.65, 'f1': 0.79, 'p': 0.65, 'r': 1.0},\n",
       "             4: {'dist': 0.81, 'f1': 0.9, 'p': 0.81, 'r': 1.0},\n",
       "             5: {'dist': 0.7, 'f1': 0.82, 'p': 0.7, 'r': 1.0},\n",
       "             6: {'dist': 0.91, 'f1': 0.95, 'p': 0.91, 'r': 1.0},\n",
       "             7: {'dist': 0.15, 'f1': 0.0, 'p': 0.0, 'r': 0.0},\n",
       "             8: {'dist': 0.68, 'f1': 0.81, 'p': 0.68, 'r': 1.0},\n",
       "             9: {'dist': 0.47, 'f1': 0.64, 'p': 0.47, 'r': 1.0},\n",
       "             10: {'dist': 0.23, 'f1': 0.0, 'p': 0.0, 'r': 0.0},\n",
       "             11: {'dist': 0.91, 'f1': 0.95, 'p': 0.91, 'r': 1.0},\n",
       "             12: {'dist': 0.22, 'f1': 0.0, 'p': 0.0, 'r': 0.0},\n",
       "             13: {'dist': 0.15, 'f1': 0.0, 'p': 0.0, 'r': 0.0},\n",
       "             14: {'dist': 0.78, 'f1': 0.88, 'p': 0.78, 'r': 1.0},\n",
       "             15: {'dist': 0.63, 'f1': 0.77, 'p': 0.63, 'r': 1.0},\n",
       "             16: {'dist': 0.91, 'f1': 0.95, 'p': 0.91, 'r': 1.0},\n",
       "             17: {'dist': 0.14, 'f1': 0.0, 'p': 0.0, 'r': 0.0},\n",
       "             18: {'dist': 0.71, 'f1': 0.83, 'p': 0.71, 'r': 1.0},\n",
       "             19: {'dist': 0.7, 'f1': 0.83, 'p': 0.7, 'r': 1.0},\n",
       "             20: {'dist': 0.7, 'f1': 0.83, 'p': 0.7, 'r': 1.0},\n",
       "             21: {'dist': 0.64, 'f1': 0.78, 'p': 0.64, 'r': 1.0},\n",
       "             22: {'dist': 0.07, 'f1': 0.0, 'p': 0.0, 'r': 0.0},\n",
       "             23: {'dist': 0.46, 'f1': 0.0, 'p': 0.0, 'r': 0.0},\n",
       "             24: {'dist': 0.69, 'f1': 0.82, 'p': 0.69, 'r': 1.0},\n",
       "             25: {'dist': 0.91, 'f1': 0.95, 'p': 0.91, 'r': 1.0},\n",
       "             26: {'dist': 0.61, 'f1': 0.76, 'p': 0.61, 'r': 1.0}})"
      ]
     },
     "execution_count": 190,
     "metadata": {},
     "output_type": "execute_result"
    }
   ],
   "source": [
    "scores"
   ]
  },
  {
   "cell_type": "code",
   "execution_count": 168,
   "metadata": {},
   "outputs": [],
   "source": [
    "means=[]\n",
    "for i in range(27):\n",
    "    means.append(all_labels[:,i].mean())"
   ]
  },
  {
   "cell_type": "code",
   "execution_count": 195,
   "metadata": {
    "collapsed": true,
    "jupyter": {
     "outputs_hidden": true
    }
   },
   "outputs": [
    {
     "data": {
      "text/plain": [
       "defaultdict(<function __main__.<lambda>()>,\n",
       "            {0: {'count': 145.0, 'proportion': 0.51},\n",
       "             1: {'count': 199.0, 'proportion': 0.69},\n",
       "             2: {'count': 3.0, 'proportion': 0.01},\n",
       "             3: {'count': 186.0, 'proportion': 0.65},\n",
       "             4: {'count': 233.0, 'proportion': 0.81},\n",
       "             5: {'count': 201.0, 'proportion': 0.7},\n",
       "             6: {'count': 261.0, 'proportion': 0.91},\n",
       "             7: {'count': 44.0, 'proportion': 0.15},\n",
       "             8: {'count': 194.0, 'proportion': 0.68},\n",
       "             9: {'count': 136.0, 'proportion': 0.47},\n",
       "             10: {'count': 65.0, 'proportion': 0.23},\n",
       "             11: {'count': 261.0, 'proportion': 0.91},\n",
       "             12: {'count': 63.0, 'proportion': 0.22},\n",
       "             13: {'count': 42.0, 'proportion': 0.15},\n",
       "             14: {'count': 225.0, 'proportion': 0.78},\n",
       "             15: {'count': 180.0, 'proportion': 0.63},\n",
       "             16: {'count': 262.0, 'proportion': 0.91},\n",
       "             17: {'count': 40.0, 'proportion': 0.14},\n",
       "             18: {'count': 205.0, 'proportion': 0.71},\n",
       "             19: {'count': 202.0, 'proportion': 0.7},\n",
       "             20: {'count': 202.0, 'proportion': 0.7},\n",
       "             21: {'count': 183.0, 'proportion': 0.64},\n",
       "             22: {'count': 19.0, 'proportion': 0.07},\n",
       "             23: {'count': 131.0, 'proportion': 0.46},\n",
       "             24: {'count': 198.0, 'proportion': 0.69},\n",
       "             25: {'count': 262.0, 'proportion': 0.91},\n",
       "             26: {'count': 176.0, 'proportion': 0.61}})"
      ]
     },
     "execution_count": 195,
     "metadata": {},
     "output_type": "execute_result"
    }
   ],
   "source": [
    "dists = defaultdict(lambda: dict.fromkeys(['count','proportion']))\n",
    "for i in range(27):\n",
    "    dists[i]['count'] = np.round(all_labels[:,i].sum(),decimals=2)\n",
    "    dists[i]['proportion'] = np.round(all_labels[:,i].mean(),decimals=2)\n",
    "    #dists[i]['f1'] = np.round(f1_score(all_labels[:, i], all_probs[:, i]>0.5),decimals=2)\n",
    "dists"
   ]
  },
  {
   "cell_type": "code",
   "execution_count": 243,
   "metadata": {},
   "outputs": [
    {
     "data": {
      "text/plain": [
       "tensor([ 0.9010,  0.4360, 61.3750,  0.6442,  0.2413,  0.4298,  0.0943,  4.3369,\n",
       "         0.3690,  0.9492,  2.8385,  0.1089,  3.4356,  5.4805,  0.2828,  0.6097,\n",
       "         0.0824,  4.3085,  0.4096,  0.3289,  0.3978,  0.5473,  9.6170,  1.1189,\n",
       "         0.4443,  0.0919,  0.4698])"
      ]
     },
     "execution_count": 243,
     "metadata": {},
     "output_type": "execute_result"
    }
   ],
   "source": [
    "def get_pos_weights(data):\n",
    "    '''\n",
    "    \n",
    "    '''\n",
    "\n",
    "    labels = data.iloc[:,1:].values\n",
    "    weights = [(labels.shape[0]-labels[:,i].sum())/labels[:,i].sum() \n",
    "               for i in range(labels.shape[1])]\n",
    "    return torch.tensor(weights)\n",
    "\n",
    "get_pos_weights(train_data)\n"
   ]
  },
  {
   "cell_type": "code",
   "execution_count": 240,
   "metadata": {},
   "outputs": [
    {
     "data": {
      "text/plain": [
       "27"
      ]
     },
     "execution_count": 240,
     "metadata": {},
     "output_type": "execute_result"
    }
   ],
   "source": [
    "train_labels.shape[1]"
   ]
  },
  {
   "cell_type": "code",
   "execution_count": 214,
   "metadata": {},
   "outputs": [],
   "source": [
    "from itertools import chain, combinations\n",
    "\n",
    "def powerset(iterable):\n",
    "    \"\"\"\n",
    "    powerset([1,2,3]) --> () (1,) (2,) (3,) (1,2) (1,3) (2,3) (1,2,3)\n",
    "    \"\"\"\n",
    "    xs = list(iterable)\n",
    "    # note we return an iterator rather than a list\n",
    "    return [list(combinations(xs,n)) for n in range(len(xs)+1)]"
   ]
  },
  {
   "cell_type": "code",
   "execution_count": 219,
   "metadata": {},
   "outputs": [
    {
     "data": {
      "text/plain": [
       "[(1,), (2,), (3,), (1, 2), (1, 3), (2, 3), (1, 2, 3)]"
      ]
     },
     "execution_count": 219,
     "metadata": {},
     "output_type": "execute_result"
    }
   ],
   "source": [
    "[item for sublist in powerset([1,2,3]) for item in sublist]"
   ]
  },
  {
   "cell_type": "code",
   "execution_count": null,
   "metadata": {},
   "outputs": [],
   "source": []
  },
  {
   "cell_type": "code",
   "execution_count": null,
   "metadata": {},
   "outputs": [],
   "source": []
  },
  {
   "cell_type": "code",
   "execution_count": 221,
   "metadata": {
    "jupyter": {
     "source_hidden": true
    }
   },
   "outputs": [],
   "source": [
    "\n",
    "import random\n",
    "from collections import defaultdict\n",
    "class Sampler():\n",
    "    def __init__(self, data, categories):\n",
    "        self.D = data\n",
    "        self.L = categories\n",
    "        \n",
    "        # Calculate imbalance levels\n",
    "        self.IRLbl_l, self.IRMean = self.calculate_IRs(self.D, self.L)\n",
    "        \n",
    "    def calculate_IRs(self, D, L):\n",
    "        # IRLbl(y)\n",
    "        label_counts = [0]*len(L)\n",
    "        for instance, active_labels in D:\n",
    "            for l in active_labels:\n",
    "                l_index = L.index(l)\n",
    "                label_counts[l_index] += 1\n",
    "\n",
    "        max_label_count = float(max(label_counts))\n",
    "\n",
    "        IRLbl_l = []\n",
    "        for i in range(len(L)):\n",
    "            IRLbl_l.append(max_label_count/label_counts[i])\n",
    "\n",
    "        IRMean = sum(IRLbls)/len(IRLbls)\n",
    "\n",
    "        return IRLbl_l, IRMean \n",
    "    \n",
    "    def calculate_SCUMBLES(self):\n",
    "        # SCUMBLE\n",
    "        scumbles = []\n",
    "        for instance, active_labels in self.D:\n",
    "            IRLbli = map(self.get_IRLbl, active_labels) \n",
    "            IRLbli_bar = sum(IRLbli)/len(IRLbli)\n",
    "            IRLbli_prod = (reduce(lambda x,y:x*y, IRLbli))\n",
    "\n",
    "            scumblei = 1 - (IRLbli_prod ** (1/len(self.L))) / IRLbli_bar\n",
    "            scumbles.append(scumblei)\n",
    "\n",
    "        SCUMBLE = sum(scumbles)/len(scumbles)\n",
    "        return scumbles, SCUMBLE\n",
    "\n",
    "    def get_IRLbl(self, x): \n",
    "        return self.IRLbl_l[self.L.index(x)] \n",
    "    \n",
    "    def REMEDIAL(self):\n",
    "        # Calculate SCUMBLE\n",
    "        SCUMBLE_ins, SCUMBLE = self.calculate_SCUMBLES()\n",
    "        \n",
    "        # Edit dataset\n",
    "        new_D = self.D[:] # copy dataset\n",
    "        for i in range(len(new_D)):\n",
    "            if SCUMBLE_ins[i] > SCUMBLE:\n",
    "                instance, labels = new_D[i]\n",
    "                # Maintain minority labels\n",
    "                min_labels = filter(lambda x: self.get_IRLbl(x) > self.IRMean, labels)\n",
    "                maj_labels = filter(lambda x: self.get_IRLbl(x) <= self.IRMean, labels)\n",
    "\n",
    "                new_D[i] = (instance, min_labels)\n",
    "                Di = (instance, maj_labels)\n",
    "                new_D.append(Di)\n",
    "\n",
    "        return new_D\n",
    "\n",
    "    \n",
    "    def ML_ROS(self, P):\n",
    "        label_to_instance_map = defaultdict(list)\n",
    "        for instance, labels in self.D:\n",
    "            for l in labels:\n",
    "                label_to_instance_map[l].append((instance, labels))\n",
    "        \n",
    "        num_samples_to_clone = int(len(self.D)*(P/(100.)))\n",
    "        print(num_samples_to_clone)\n",
    "        \n",
    "        min_bags = {\n",
    "            l:ins for l,ins in label_to_instance_map.items()\n",
    "            if self.get_IRLbl(l) > self.IRMean\n",
    "        }\n",
    "        \n",
    "        new_D = self.D\n",
    "        while num_samples_to_clone > 0:\n",
    "            # Clone a random sample from each minority bag\n",
    "            labels_to_remove = []\n",
    "            for l in min_bags:\n",
    "                instance_to_clone = random.choice(min_bags[l])\n",
    "                new_D.append(instance_to_clone)\n",
    "                \n",
    "                new_IRs, _ = self.calculate_IRs(new_D, self.L)\n",
    "                new_IR_l = new_IRs[self.L.index(l)]\n",
    "\n",
    "                if new_IR_l <= self.IRMean:\n",
    "                    # Exclude from cloning\n",
    "                    labels_to_remove.append(l)\n",
    "                    \n",
    "                num_samples_to_clone -= 1\n",
    "      \n",
    "            for l in labels_to_remove:\n",
    "                del min_bags[l]\n",
    "            \n",
    "            if len(min_bags.keys()) == 0:\n",
    "                print(\"Unable to clone all samples. {} left to clone\".format(num_samples_to_clone))\n",
    "                break\n",
    "                \n",
    "        return new_D"
   ]
  },
  {
   "cell_type": "code",
   "execution_count": null,
   "metadata": {},
   "outputs": [],
   "source": [
    "sampler = Sampler(train_data.smiles, train_data)"
   ]
  },
  {
   "cell_type": "code",
   "execution_count": 274,
   "metadata": {},
   "outputs": [],
   "source": [
    "from sklearn.metrics import classification_report, multilabel_confusion_matrix, confusion_matrix\n",
    "print(classification_report(all_labels, all_probs>0.5))\n",
    "                     #labels = train_data.columns[1:].tolist())"
   ]
  },
  {
   "cell_type": "code",
   "execution_count": 276,
   "metadata": {},
   "outputs": [],
   "source": [
    "classes = train_data.columns[1:].tolist()\n",
    "for i in range(len(classes)):\n",
    "    print(classes[i],':')\n",
    "    print(confusion_matrix(all_labels[:,i], all_probs[:,i]>0.5))"
   ]
  },
  {
   "cell_type": "code",
   "execution_count": 283,
   "metadata": {},
   "outputs": [
    {
     "data": {
      "text/plain": [
       "0.5"
      ]
     },
     "execution_count": 283,
     "metadata": {},
     "output_type": "execute_result"
    }
   ],
   "source": [
    "from sklearn.metrics import roc_auc_score\n",
    "roc_auc_score(all_labels, all_probs>0.5)"
   ]
  },
  {
   "cell_type": "code",
   "execution_count": 2,
   "metadata": {},
   "outputs": [],
   "source": [
    "preds = pd.read_csv('/Users/mbluestone/Downloads/graph_test_predictions.csv')"
   ]
  },
  {
   "cell_type": "code",
   "execution_count": 3,
   "metadata": {},
   "outputs": [
    {
     "data": {
      "text/html": [
       "<div>\n",
       "<style scoped>\n",
       "    .dataframe tbody tr th:only-of-type {\n",
       "        vertical-align: middle;\n",
       "    }\n",
       "\n",
       "    .dataframe tbody tr th {\n",
       "        vertical-align: top;\n",
       "    }\n",
       "\n",
       "    .dataframe thead th {\n",
       "        text-align: right;\n",
       "    }\n",
       "</style>\n",
       "<table border=\"1\" class=\"dataframe\">\n",
       "  <thead>\n",
       "    <tr style=\"text-align: right;\">\n",
       "      <th></th>\n",
       "      <th>Unnamed: 0</th>\n",
       "      <th>Hepatobiliary disorders</th>\n",
       "      <th>Metabolism and nutrition disorders</th>\n",
       "      <th>Product issues</th>\n",
       "      <th>Eye disorders</th>\n",
       "      <th>Investigations</th>\n",
       "      <th>Musculoskeletal and connective tissue disorders</th>\n",
       "      <th>Gastrointestinal disorders</th>\n",
       "      <th>Social circumstances</th>\n",
       "      <th>Immune system disorders</th>\n",
       "      <th>...</th>\n",
       "      <th>Congenital, familial and genetic disorders</th>\n",
       "      <th>Infections and infestations</th>\n",
       "      <th>Respiratory, thoracic and mediastinal disorders</th>\n",
       "      <th>Psychiatric disorders</th>\n",
       "      <th>Renal and urinary disorders</th>\n",
       "      <th>Pregnancy, puerperium and perinatal conditions</th>\n",
       "      <th>Ear and labyrinth disorders</th>\n",
       "      <th>Cardiac disorders</th>\n",
       "      <th>Nervous system disorders</th>\n",
       "      <th>Injury, poisoning and procedural complications</th>\n",
       "    </tr>\n",
       "  </thead>\n",
       "  <tbody>\n",
       "    <tr>\n",
       "      <th>0</th>\n",
       "      <td>0</td>\n",
       "      <td>0.499477</td>\n",
       "      <td>0.499636</td>\n",
       "      <td>0.501859</td>\n",
       "      <td>0.498852</td>\n",
       "      <td>0.500818</td>\n",
       "      <td>0.499617</td>\n",
       "      <td>0.500475</td>\n",
       "      <td>0.498825</td>\n",
       "      <td>0.499041</td>\n",
       "      <td>...</td>\n",
       "      <td>0.499048</td>\n",
       "      <td>0.499704</td>\n",
       "      <td>0.499887</td>\n",
       "      <td>0.499081</td>\n",
       "      <td>0.49977</td>\n",
       "      <td>0.498667</td>\n",
       "      <td>0.49971</td>\n",
       "      <td>0.49983</td>\n",
       "      <td>0.496708</td>\n",
       "      <td>0.50052</td>\n",
       "    </tr>\n",
       "    <tr>\n",
       "      <th>1</th>\n",
       "      <td>1</td>\n",
       "      <td>0.499477</td>\n",
       "      <td>0.499636</td>\n",
       "      <td>0.501859</td>\n",
       "      <td>0.498852</td>\n",
       "      <td>0.500818</td>\n",
       "      <td>0.499617</td>\n",
       "      <td>0.500475</td>\n",
       "      <td>0.498825</td>\n",
       "      <td>0.499041</td>\n",
       "      <td>...</td>\n",
       "      <td>0.499048</td>\n",
       "      <td>0.499704</td>\n",
       "      <td>0.499887</td>\n",
       "      <td>0.499081</td>\n",
       "      <td>0.49977</td>\n",
       "      <td>0.498667</td>\n",
       "      <td>0.49971</td>\n",
       "      <td>0.49983</td>\n",
       "      <td>0.496708</td>\n",
       "      <td>0.50052</td>\n",
       "    </tr>\n",
       "    <tr>\n",
       "      <th>2</th>\n",
       "      <td>2</td>\n",
       "      <td>0.499477</td>\n",
       "      <td>0.499636</td>\n",
       "      <td>0.501859</td>\n",
       "      <td>0.498852</td>\n",
       "      <td>0.500818</td>\n",
       "      <td>0.499617</td>\n",
       "      <td>0.500475</td>\n",
       "      <td>0.498825</td>\n",
       "      <td>0.499041</td>\n",
       "      <td>...</td>\n",
       "      <td>0.499048</td>\n",
       "      <td>0.499704</td>\n",
       "      <td>0.499887</td>\n",
       "      <td>0.499081</td>\n",
       "      <td>0.49977</td>\n",
       "      <td>0.498667</td>\n",
       "      <td>0.49971</td>\n",
       "      <td>0.49983</td>\n",
       "      <td>0.496708</td>\n",
       "      <td>0.50052</td>\n",
       "    </tr>\n",
       "    <tr>\n",
       "      <th>3</th>\n",
       "      <td>3</td>\n",
       "      <td>0.499477</td>\n",
       "      <td>0.499636</td>\n",
       "      <td>0.501859</td>\n",
       "      <td>0.498852</td>\n",
       "      <td>0.500818</td>\n",
       "      <td>0.499617</td>\n",
       "      <td>0.500475</td>\n",
       "      <td>0.498825</td>\n",
       "      <td>0.499041</td>\n",
       "      <td>...</td>\n",
       "      <td>0.499048</td>\n",
       "      <td>0.499704</td>\n",
       "      <td>0.499887</td>\n",
       "      <td>0.499081</td>\n",
       "      <td>0.49977</td>\n",
       "      <td>0.498667</td>\n",
       "      <td>0.49971</td>\n",
       "      <td>0.49983</td>\n",
       "      <td>0.496708</td>\n",
       "      <td>0.50052</td>\n",
       "    </tr>\n",
       "    <tr>\n",
       "      <th>4</th>\n",
       "      <td>4</td>\n",
       "      <td>0.499477</td>\n",
       "      <td>0.499636</td>\n",
       "      <td>0.501859</td>\n",
       "      <td>0.498852</td>\n",
       "      <td>0.500818</td>\n",
       "      <td>0.499617</td>\n",
       "      <td>0.500475</td>\n",
       "      <td>0.498825</td>\n",
       "      <td>0.499041</td>\n",
       "      <td>...</td>\n",
       "      <td>0.499048</td>\n",
       "      <td>0.499704</td>\n",
       "      <td>0.499887</td>\n",
       "      <td>0.499081</td>\n",
       "      <td>0.49977</td>\n",
       "      <td>0.498667</td>\n",
       "      <td>0.49971</td>\n",
       "      <td>0.49983</td>\n",
       "      <td>0.496708</td>\n",
       "      <td>0.50052</td>\n",
       "    </tr>\n",
       "    <tr>\n",
       "      <th>...</th>\n",
       "      <td>...</td>\n",
       "      <td>...</td>\n",
       "      <td>...</td>\n",
       "      <td>...</td>\n",
       "      <td>...</td>\n",
       "      <td>...</td>\n",
       "      <td>...</td>\n",
       "      <td>...</td>\n",
       "      <td>...</td>\n",
       "      <td>...</td>\n",
       "      <td>...</td>\n",
       "      <td>...</td>\n",
       "      <td>...</td>\n",
       "      <td>...</td>\n",
       "      <td>...</td>\n",
       "      <td>...</td>\n",
       "      <td>...</td>\n",
       "      <td>...</td>\n",
       "      <td>...</td>\n",
       "      <td>...</td>\n",
       "      <td>...</td>\n",
       "    </tr>\n",
       "    <tr>\n",
       "      <th>294</th>\n",
       "      <td>294</td>\n",
       "      <td>0.499477</td>\n",
       "      <td>0.499636</td>\n",
       "      <td>0.501859</td>\n",
       "      <td>0.498852</td>\n",
       "      <td>0.500818</td>\n",
       "      <td>0.499617</td>\n",
       "      <td>0.500475</td>\n",
       "      <td>0.498825</td>\n",
       "      <td>0.499041</td>\n",
       "      <td>...</td>\n",
       "      <td>0.499048</td>\n",
       "      <td>0.499704</td>\n",
       "      <td>0.499887</td>\n",
       "      <td>0.499081</td>\n",
       "      <td>0.49977</td>\n",
       "      <td>0.498667</td>\n",
       "      <td>0.49971</td>\n",
       "      <td>0.49983</td>\n",
       "      <td>0.496708</td>\n",
       "      <td>0.50052</td>\n",
       "    </tr>\n",
       "    <tr>\n",
       "      <th>295</th>\n",
       "      <td>295</td>\n",
       "      <td>0.499477</td>\n",
       "      <td>0.499636</td>\n",
       "      <td>0.501859</td>\n",
       "      <td>0.498852</td>\n",
       "      <td>0.500818</td>\n",
       "      <td>0.499617</td>\n",
       "      <td>0.500475</td>\n",
       "      <td>0.498825</td>\n",
       "      <td>0.499041</td>\n",
       "      <td>...</td>\n",
       "      <td>0.499048</td>\n",
       "      <td>0.499704</td>\n",
       "      <td>0.499887</td>\n",
       "      <td>0.499081</td>\n",
       "      <td>0.49977</td>\n",
       "      <td>0.498667</td>\n",
       "      <td>0.49971</td>\n",
       "      <td>0.49983</td>\n",
       "      <td>0.496708</td>\n",
       "      <td>0.50052</td>\n",
       "    </tr>\n",
       "    <tr>\n",
       "      <th>296</th>\n",
       "      <td>296</td>\n",
       "      <td>0.499477</td>\n",
       "      <td>0.499636</td>\n",
       "      <td>0.501859</td>\n",
       "      <td>0.498852</td>\n",
       "      <td>0.500818</td>\n",
       "      <td>0.499617</td>\n",
       "      <td>0.500475</td>\n",
       "      <td>0.498825</td>\n",
       "      <td>0.499041</td>\n",
       "      <td>...</td>\n",
       "      <td>0.499048</td>\n",
       "      <td>0.499704</td>\n",
       "      <td>0.499887</td>\n",
       "      <td>0.499081</td>\n",
       "      <td>0.49977</td>\n",
       "      <td>0.498667</td>\n",
       "      <td>0.49971</td>\n",
       "      <td>0.49983</td>\n",
       "      <td>0.496708</td>\n",
       "      <td>0.50052</td>\n",
       "    </tr>\n",
       "    <tr>\n",
       "      <th>297</th>\n",
       "      <td>297</td>\n",
       "      <td>0.499477</td>\n",
       "      <td>0.499636</td>\n",
       "      <td>0.501859</td>\n",
       "      <td>0.498852</td>\n",
       "      <td>0.500818</td>\n",
       "      <td>0.499617</td>\n",
       "      <td>0.500475</td>\n",
       "      <td>0.498825</td>\n",
       "      <td>0.499041</td>\n",
       "      <td>...</td>\n",
       "      <td>0.499048</td>\n",
       "      <td>0.499704</td>\n",
       "      <td>0.499887</td>\n",
       "      <td>0.499081</td>\n",
       "      <td>0.49977</td>\n",
       "      <td>0.498667</td>\n",
       "      <td>0.49971</td>\n",
       "      <td>0.49983</td>\n",
       "      <td>0.496708</td>\n",
       "      <td>0.50052</td>\n",
       "    </tr>\n",
       "    <tr>\n",
       "      <th>298</th>\n",
       "      <td>298</td>\n",
       "      <td>0.499477</td>\n",
       "      <td>0.499636</td>\n",
       "      <td>0.501859</td>\n",
       "      <td>0.498852</td>\n",
       "      <td>0.500818</td>\n",
       "      <td>0.499617</td>\n",
       "      <td>0.500475</td>\n",
       "      <td>0.498825</td>\n",
       "      <td>0.499041</td>\n",
       "      <td>...</td>\n",
       "      <td>0.499048</td>\n",
       "      <td>0.499704</td>\n",
       "      <td>0.499887</td>\n",
       "      <td>0.499081</td>\n",
       "      <td>0.49977</td>\n",
       "      <td>0.498667</td>\n",
       "      <td>0.49971</td>\n",
       "      <td>0.49983</td>\n",
       "      <td>0.496708</td>\n",
       "      <td>0.50052</td>\n",
       "    </tr>\n",
       "  </tbody>\n",
       "</table>\n",
       "<p>299 rows × 28 columns</p>\n",
       "</div>"
      ],
      "text/plain": [
       "     Unnamed: 0  Hepatobiliary disorders  Metabolism and nutrition disorders  \\\n",
       "0             0                 0.499477                            0.499636   \n",
       "1             1                 0.499477                            0.499636   \n",
       "2             2                 0.499477                            0.499636   \n",
       "3             3                 0.499477                            0.499636   \n",
       "4             4                 0.499477                            0.499636   \n",
       "..          ...                      ...                                 ...   \n",
       "294         294                 0.499477                            0.499636   \n",
       "295         295                 0.499477                            0.499636   \n",
       "296         296                 0.499477                            0.499636   \n",
       "297         297                 0.499477                            0.499636   \n",
       "298         298                 0.499477                            0.499636   \n",
       "\n",
       "     Product issues  Eye disorders  Investigations  \\\n",
       "0          0.501859       0.498852        0.500818   \n",
       "1          0.501859       0.498852        0.500818   \n",
       "2          0.501859       0.498852        0.500818   \n",
       "3          0.501859       0.498852        0.500818   \n",
       "4          0.501859       0.498852        0.500818   \n",
       "..              ...            ...             ...   \n",
       "294        0.501859       0.498852        0.500818   \n",
       "295        0.501859       0.498852        0.500818   \n",
       "296        0.501859       0.498852        0.500818   \n",
       "297        0.501859       0.498852        0.500818   \n",
       "298        0.501859       0.498852        0.500818   \n",
       "\n",
       "     Musculoskeletal and connective tissue disorders  \\\n",
       "0                                           0.499617   \n",
       "1                                           0.499617   \n",
       "2                                           0.499617   \n",
       "3                                           0.499617   \n",
       "4                                           0.499617   \n",
       "..                                               ...   \n",
       "294                                         0.499617   \n",
       "295                                         0.499617   \n",
       "296                                         0.499617   \n",
       "297                                         0.499617   \n",
       "298                                         0.499617   \n",
       "\n",
       "     Gastrointestinal disorders  Social circumstances  \\\n",
       "0                      0.500475              0.498825   \n",
       "1                      0.500475              0.498825   \n",
       "2                      0.500475              0.498825   \n",
       "3                      0.500475              0.498825   \n",
       "4                      0.500475              0.498825   \n",
       "..                          ...                   ...   \n",
       "294                    0.500475              0.498825   \n",
       "295                    0.500475              0.498825   \n",
       "296                    0.500475              0.498825   \n",
       "297                    0.500475              0.498825   \n",
       "298                    0.500475              0.498825   \n",
       "\n",
       "     Immune system disorders  ...  Congenital, familial and genetic disorders  \\\n",
       "0                   0.499041  ...                                    0.499048   \n",
       "1                   0.499041  ...                                    0.499048   \n",
       "2                   0.499041  ...                                    0.499048   \n",
       "3                   0.499041  ...                                    0.499048   \n",
       "4                   0.499041  ...                                    0.499048   \n",
       "..                       ...  ...                                         ...   \n",
       "294                 0.499041  ...                                    0.499048   \n",
       "295                 0.499041  ...                                    0.499048   \n",
       "296                 0.499041  ...                                    0.499048   \n",
       "297                 0.499041  ...                                    0.499048   \n",
       "298                 0.499041  ...                                    0.499048   \n",
       "\n",
       "     Infections and infestations  \\\n",
       "0                       0.499704   \n",
       "1                       0.499704   \n",
       "2                       0.499704   \n",
       "3                       0.499704   \n",
       "4                       0.499704   \n",
       "..                           ...   \n",
       "294                     0.499704   \n",
       "295                     0.499704   \n",
       "296                     0.499704   \n",
       "297                     0.499704   \n",
       "298                     0.499704   \n",
       "\n",
       "     Respiratory, thoracic and mediastinal disorders  Psychiatric disorders  \\\n",
       "0                                           0.499887               0.499081   \n",
       "1                                           0.499887               0.499081   \n",
       "2                                           0.499887               0.499081   \n",
       "3                                           0.499887               0.499081   \n",
       "4                                           0.499887               0.499081   \n",
       "..                                               ...                    ...   \n",
       "294                                         0.499887               0.499081   \n",
       "295                                         0.499887               0.499081   \n",
       "296                                         0.499887               0.499081   \n",
       "297                                         0.499887               0.499081   \n",
       "298                                         0.499887               0.499081   \n",
       "\n",
       "     Renal and urinary disorders  \\\n",
       "0                        0.49977   \n",
       "1                        0.49977   \n",
       "2                        0.49977   \n",
       "3                        0.49977   \n",
       "4                        0.49977   \n",
       "..                           ...   \n",
       "294                      0.49977   \n",
       "295                      0.49977   \n",
       "296                      0.49977   \n",
       "297                      0.49977   \n",
       "298                      0.49977   \n",
       "\n",
       "     Pregnancy, puerperium and perinatal conditions  \\\n",
       "0                                          0.498667   \n",
       "1                                          0.498667   \n",
       "2                                          0.498667   \n",
       "3                                          0.498667   \n",
       "4                                          0.498667   \n",
       "..                                              ...   \n",
       "294                                        0.498667   \n",
       "295                                        0.498667   \n",
       "296                                        0.498667   \n",
       "297                                        0.498667   \n",
       "298                                        0.498667   \n",
       "\n",
       "     Ear and labyrinth disorders  Cardiac disorders  Nervous system disorders  \\\n",
       "0                        0.49971            0.49983                  0.496708   \n",
       "1                        0.49971            0.49983                  0.496708   \n",
       "2                        0.49971            0.49983                  0.496708   \n",
       "3                        0.49971            0.49983                  0.496708   \n",
       "4                        0.49971            0.49983                  0.496708   \n",
       "..                           ...                ...                       ...   \n",
       "294                      0.49971            0.49983                  0.496708   \n",
       "295                      0.49971            0.49983                  0.496708   \n",
       "296                      0.49971            0.49983                  0.496708   \n",
       "297                      0.49971            0.49983                  0.496708   \n",
       "298                      0.49971            0.49983                  0.496708   \n",
       "\n",
       "     Injury, poisoning and procedural complications  \n",
       "0                                           0.50052  \n",
       "1                                           0.50052  \n",
       "2                                           0.50052  \n",
       "3                                           0.50052  \n",
       "4                                           0.50052  \n",
       "..                                              ...  \n",
       "294                                         0.50052  \n",
       "295                                         0.50052  \n",
       "296                                         0.50052  \n",
       "297                                         0.50052  \n",
       "298                                         0.50052  \n",
       "\n",
       "[299 rows x 28 columns]"
      ]
     },
     "execution_count": 3,
     "metadata": {},
     "output_type": "execute_result"
    }
   ],
   "source": [
    "preds"
   ]
  },
  {
   "cell_type": "code",
   "execution_count": null,
   "metadata": {},
   "outputs": [],
   "source": []
  }
 ],
 "metadata": {
  "kernelspec": {
   "display_name": "Python 3",
   "language": "python",
   "name": "python3"
  },
  "language_info": {
   "codemirror_mode": {
    "name": "ipython",
    "version": 3
   },
   "file_extension": ".py",
   "mimetype": "text/x-python",
   "name": "python",
   "nbconvert_exporter": "python",
   "pygments_lexer": "ipython3",
   "version": "3.6.10"
  }
 },
 "nbformat": 4,
 "nbformat_minor": 4
}
